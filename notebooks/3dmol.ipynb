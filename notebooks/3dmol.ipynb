{
 "cells": [
  {
   "cell_type": "code",
   "execution_count": null,
   "id": "cbe7bba0-e7ee-4111-9908-26ca7d0666dc",
   "metadata": {},
   "outputs": [],
   "source": [
    "# This pre-amble sets up auto-reloading of any on-disk modules we are hacking on.\n",
    "%load_ext autoreload\n",
    "%reload_ext autoreload\n",
    "%autoreload 2"
   ]
  },
  {
   "cell_type": "code",
   "execution_count": null,
   "id": "57980c98-e97c-487b-9c7d-819527919601",
   "metadata": {},
   "outputs": [],
   "source": [
    "# This pre-amble makes mlx_esm visible to this notebook.\n",
    "import os\n",
    "import sys\n",
    "module_path = os.path.abspath(os.path.join(\"..\"))\n",
    "sys.path.insert(0, module_path)"
   ]
  },
  {
   "cell_type": "code",
   "execution_count": null,
   "id": "652688dc-2693-489f-a4df-2fd6b0ba32ee",
   "metadata": {},
   "outputs": [],
   "source": [
    "# This pre-amble makes matplotlib available in this notebook.\n",
    "import matplotlib.pyplot as plt\n",
    "%matplotlib inline"
   ]
  },
  {
   "cell_type": "code",
   "execution_count": null,
   "id": "5c6d6b42-8f9a-4e7c-acfd-8962a83783e7",
   "metadata": {},
   "outputs": [],
   "source": [
    "filename = \"SequenceFour.pdb\""
   ]
  },
  {
   "cell_type": "code",
   "execution_count": 1,
   "id": "4ab721eb-d233-4d1b-aace-3100e578dbbd",
   "metadata": {},
   "outputs": [],
   "source": [
    "import py3Dmol\n",
    "\n",
    "\n",
    "with open(filename) as f:\n",
    "    data = \"\".join([x for x in f])\n",
    "\n",
    "view = py3Dmol.view(width=400, height=300)\n",
    "view.addModelsAsFrames(data)\n",
    "view.setStyle({\"model\": -1}, {\"cartoon\": {\"color\": \"spectrum\"}})\n",
    "view.zoomTo()\n",
    "view.show()"
   ]
  }
 ],
 "metadata": {
  "kernelspec": {
   "display_name": "Python 3 (ipykernel)",
   "language": "python",
   "name": "python3"
  },
  "language_info": {
   "codemirror_mode": {
    "name": "ipython",
    "version": 3
   },
   "file_extension": ".py",
   "mimetype": "text/x-python",
   "name": "python",
   "nbconvert_exporter": "python",
   "pygments_lexer": "ipython3",
   "version": "3.11.7"
  }
 },
 "nbformat": 4,
 "nbformat_minor": 5
}
